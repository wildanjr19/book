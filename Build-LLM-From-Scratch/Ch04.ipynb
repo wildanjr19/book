{
 "cells": [
  {
   "cell_type": "markdown",
   "metadata": {},
   "source": [
    "## Implementing a GPT Model from Scratch to Generate Text ##"
   ]
  },
  {
   "cell_type": "markdown",
   "metadata": {},
   "source": [
    "Bab ini memuat  \n",
    "- Coding model llm seperti GPT untuk generate text\n",
    "- Normalisasi aktivasi layer untuk stabilitas pelatihan NN\n",
    "- Menambahkan koneksi pintasan pada DNN\n",
    "- Implementasi transformers block untuk membuat model GPT dengan ukuran yang bervariasi\n",
    "- Komputasi ukuran dari parameter dan penyimpanan yang dibutuhkan untuk model GPT"
   ]
  },
  {
   "cell_type": "markdown",
   "metadata": {},
   "source": [
    "Diagram alur pada chapter ini  \n",
    "1) GPT Backbone -> Membuat sebuah penampung GPT MOdel untuk melihat struktur model secara keseluruhan  \n",
    "2) Layer Normalization   \n",
    "3) GELU Activation  \n",
    "4) Feed Forward Network  \n",
    "5) Shortcut connections  \n",
    "6) Transformers block  \n",
    "7) Final architecture of GPT"
   ]
  },
  {
   "cell_type": "markdown",
   "metadata": {},
   "source": [
    "### 4.1 Coding an LLM architecture"
   ]
  },
  {
   "cell_type": "markdown",
   "metadata": {},
   "source": [
    "GPT *(Generative Pretrained Transformers)* adalah sebuah arsitektur large deep neutal network yang didesain untuk meng-generate teks baru (satu teks atau satu token pada satu waktu). Arsitektur model ini sebenarnya tidak terlalu kompleks, semenjak banyak komponen yang dilakukan berulang.  \n",
    "GPT-2 Model (berdasar papernya) memiliki versi terkecil dengan **124 juta** parameters. 'Parameters' merujuk pada *trainable weights* atau bobot yang dapat dilatih pada model. Bobot ini pada dasarnya adalah variable internal yang akan disesuaikan dan dioptimasi selama proses pelatihan dengan tujuan untuk minimalisasi loss-function."
   ]
  },
  {
   "cell_type": "code",
   "execution_count": 33,
   "metadata": {},
   "outputs": [],
   "source": [
    "# GPT-2 Config\n",
    "GPT_CONFIG_124M = {\n",
    "    'vocab_size': 50257,        # Vocab size\n",
    "    'context_length' : 1024,    # Context length - panjang token input\n",
    "    'emb_dim' : 768,            # Embedding dimension\n",
    "    'n_heads' : 12,             # Number of attention heads\n",
    "    'n_layers' : 12,            # Number of layers\n",
    "    'drop_rate' : 0.1,          # Dropout rate\n",
    "    'qkv_bias' : False          # QKV Bias\n",
    "}"
   ]
  },
  {
   "cell_type": "markdown",
   "metadata": {},
   "source": [
    "- `vocab_size`      : merujuk pada banyaknya vocabulary yang digunakan pada tokenizer  \n",
    "- `context_length`  : menunjukkan panjang maksimum dari input token yang bisa dihandle oleh model via positinal embedding  \n",
    "- `emd_dim`         : menunjukkan ukuran dari embedding, pada kasus ini 768-dimensional vector  \n",
    "- `n_heads`         : mengindikasi banyaknya attention-heads pada mekanisme multi-head attention  \n",
    "- `n_layers`        : menentukan banyaknya transformer block  \n",
    "- `drop_rate`       : mengindikasikan intensitas dari mekanisme dropout (0.1 = 10% hidden unit secara random akan didropout)  \n",
    "- `qkv_bias`        : menentukan apakah bias vector pada linear layers ikut dikomputasi"
   ]
  },
  {
   "cell_type": "code",
   "execution_count": 34,
   "metadata": {},
   "outputs": [],
   "source": [
    "import torch\n",
    "import torch.nn as nn\n",
    "\n",
    "class DummyGPTModel(nn.Module):\n",
    "    def __init__(self, cfg):\n",
    "        super().__init__()\n",
    "        self.tok_emb = nn.Embedding(cfg['vocab_size'], cfg['emb_dim'])\n",
    "        self.pos_emb = nn.Embedding(cfg['context_length'], cfg['emb_dim'])\n",
    "        self.drop_emb = nn.Dropout(cfg['drop_rate'])\n",
    "        self.trf_blocks = nn.Sequential(*[DummyTransformerBlock(cfg) for _ in range(cfg['n_layers'])])\n",
    "        # menyiapkan tempat untuk nantinya diisi transformers block\n",
    "        self.final_norm = DummyLayerNorm(cfg['emb_dim'])\n",
    "        # menyiapkan final layer norm\n",
    "        self.out_head = nn.Linear(cfg['emb_dim'], cfg['vocab_size'], bias=False)\n",
    "\n",
    "    def forward(self, in_idx):\n",
    "        batch_size, seq_len = in_idx.shape\n",
    "        tok_embeds = self.tok_emb(in_idx)\n",
    "        pos_embeds = self.pos_emb(torch.arange(seq_len, device=in_idx.device))\n",
    "\n",
    "        x = tok_embeds + pos_embeds\n",
    "        x = self.drop_emb(x)\n",
    "        x = self.trf_blocks(x)\n",
    "        x = self.final_norm(x)\n",
    "\n",
    "        logits = self.out_head(x)\n",
    "        return logits\n",
    "    \n",
    "\n",
    "class DummyTransformerBlock(nn.Module):\n",
    "    def __init__(self, cfg):\n",
    "        super().__init__()\n",
    "\n",
    "    def forward(self, x):\n",
    "        return x\n",
    "# simple placeholder class, that will be replaced with the real transformer block\n",
    "\n",
    "\n",
    "class DummyLayerNorm(nn.Module):\n",
    "    def __init__(self, normalized_shape, eps = 1e-5):\n",
    "        super().__init__() \n",
    "        # the parameter mimic (meniru) LayerNorm\n",
    "    def forward(self, x):\n",
    "        return x\n",
    "# simple placeholder class, that will be replaced with the real layer norm"
   ]
  },
  {
   "cell_type": "code",
   "execution_count": 35,
   "metadata": {},
   "outputs": [
    {
     "name": "stdout",
     "output_type": "stream",
     "text": [
      "tensor([[6109, 4040, 6100,  345],\n",
      "        [6109, 1110, 6622,  257]])\n"
     ]
    }
   ],
   "source": [
    "import tiktoken\n",
    "tokenizer = tiktoken.get_encoding(\"gpt2\")\n",
    "\n",
    "batch = []\n",
    "txt1 = 'Every efforts moves you'\n",
    "txt2 = 'Every day holds a'\n",
    "\n",
    "batch.append(torch.tensor(tokenizer.encode(txt1)))\n",
    "batch.append(torch.tensor(tokenizer.encode(txt2)))\n",
    "batch = torch.stack(batch, dim=0)\n",
    "print(batch)"
   ]
  },
  {
   "cell_type": "markdown",
   "metadata": {},
   "source": [
    "Selanjutnya kita akan menginisialisasi 124-juta-parameter `DummyGPTModel`"
   ]
  },
  {
   "cell_type": "code",
   "execution_count": 36,
   "metadata": {},
   "outputs": [
    {
     "name": "stdout",
     "output_type": "stream",
     "text": [
      "Output shape :  torch.Size([2, 4, 50257])\n",
      "tensor([[[-0.9289,  0.2748, -0.7557,  ..., -1.6070,  0.2702, -0.5888],\n",
      "         [-0.8606,  1.3502, -0.2798,  ..., -0.6376,  1.4690,  1.2530],\n",
      "         [ 0.5680,  1.6053, -0.2155,  ...,  1.1624,  0.1380,  0.7425],\n",
      "         [ 0.0447,  2.4787, -0.8843,  ...,  1.3219, -0.0864, -0.5856]],\n",
      "\n",
      "        [[-1.5474, -0.0542, -1.0571,  ..., -1.8061, -0.4494, -0.6747],\n",
      "         [-0.8422,  0.8243, -0.1098,  ..., -0.1434,  0.2079,  1.2046],\n",
      "         [ 0.1355,  1.1858, -0.1453,  ...,  0.0869, -0.1590,  0.1552],\n",
      "         [ 0.1666, -0.8138,  0.2307,  ...,  2.5035, -0.3055, -0.3083]]],\n",
      "       grad_fn=<UnsafeViewBackward0>)\n"
     ]
    }
   ],
   "source": [
    "torch.manual_seed(123)\n",
    "\n",
    "model = DummyGPTModel(GPT_CONFIG_124M)\n",
    "logits = model(batch)\n",
    "\n",
    "print('Output shape : ', logits.shape)\n",
    "print(logits)"
   ]
  },
  {
   "cell_type": "markdown",
   "metadata": {},
   "source": [
    "Outputnya menghasilkan shape **(2, 4, 50257)** mengacu pada 2 sample teks. Setiap teks mengandung 4 tokens, setiap tokens adalag 50257-dimensional vector--sama dengan ukuran dari vocabulary."
   ]
  },
  {
   "cell_type": "markdown",
   "metadata": {},
   "source": [
    "50257 dimension karena setiap dimensi mengacu pada token unik di dalam vocabulary. Ketika mengimplementasikan postprocessing, kita akan mengkonversi kembali 50257-dimensional vector ini pada token IDs, kemudian decode."
   ]
  },
  {
   "cell_type": "markdown",
   "metadata": {},
   "source": [
    "### 4.2 Normalizing activations with layer normalization"
   ]
  },
  {
   "cell_type": "markdown",
   "metadata": {},
   "source": [
    "Layer Normalization meningkatkan stabilitas dan efisiensi saat melatih neural network. Layer ini bertujuan untuk menyesuaikan output dari neural network untuk memiliki mean 0 dan variansi 1. Penyesuaian ini akan mempercepat konvergensi dan efektivitas bobot."
   ]
  },
  {
   "cell_type": "markdown",
   "metadata": {},
   "source": [
    "Pada GPT-2 dan model transformers modern lainnya umumnya meletakkan Layer Normalization sebelum dan sesudah multi-head attention module"
   ]
  },
  {
   "cell_type": "code",
   "execution_count": 37,
   "metadata": {},
   "outputs": [
    {
     "name": "stdout",
     "output_type": "stream",
     "text": [
      "tensor([[0.0000, 0.0000, 0.4091, 0.6587, 0.3914, 0.0000],\n",
      "        [0.0000, 0.0000, 0.1902, 0.3182, 0.6486, 0.0000]],\n",
      "       grad_fn=<ReluBackward0>)\n"
     ]
    }
   ],
   "source": [
    "torch.manual_seed(123)\n",
    "\n",
    "batch_example = torch.rand(2, 5)\n",
    "layer = nn.Sequential(nn.Linear(5, 6), nn.ReLU())\n",
    "out = layer(batch_example)\n",
    "\n",
    "print(out)"
   ]
  },
  {
   "cell_type": "markdown",
   "metadata": {},
   "source": [
    "Sebelum menerapkan Layer Normalization untuk output, mari mencari mean dan variansi"
   ]
  },
  {
   "cell_type": "code",
   "execution_count": 38,
   "metadata": {},
   "outputs": [
    {
     "name": "stdout",
     "output_type": "stream",
     "text": [
      "Mean:\n",
      " tensor([[0.2432],\n",
      "        [0.1928]], grad_fn=<MeanBackward1>)\n",
      "Variance:\n",
      " tensor([[0.0799],\n",
      "        [0.0670]], grad_fn=<VarBackward0>)\n"
     ]
    }
   ],
   "source": [
    "mean = out.mean(dim=-1, keepdim=True)\n",
    "var = out.var(dim=-1, keepdim=True)\n",
    "print('Mean:\\n', mean)\n",
    "print('Variance:\\n', var)"
   ]
  },
  {
   "cell_type": "code",
   "execution_count": 39,
   "metadata": {},
   "outputs": [
    {
     "name": "stdout",
     "output_type": "stream",
     "text": [
      "Output Normalized:\n",
      " tensor([[-0.8603, -0.8603,  0.5869,  1.4698,  0.5242, -0.8603],\n",
      "        [-0.7450, -0.7450, -0.0102,  0.4844,  1.7608, -0.7450]],\n",
      "       grad_fn=<DivBackward0>)\n",
      "Mean:\n",
      " tensor([[    0.0000],\n",
      "        [    0.0000]], grad_fn=<MeanBackward1>)\n",
      "Variance:\n",
      " tensor([[1.],\n",
      "        [1.]], grad_fn=<VarBackward0>)\n"
     ]
    }
   ],
   "source": [
    "out_norm = (out - mean) / torch.sqrt(var)\n",
    "\n",
    "mean = out_norm.mean(dim=-1, keepdim=True)\n",
    "var = out_norm.var(dim=-1, keepdim=True)\n",
    "\n",
    "print('Output Normalized:\\n', out_norm)\n",
    "print('Mean:\\n', mean)  \n",
    "print('Variance:\\n', var)"
   ]
  },
  {
   "cell_type": "code",
   "execution_count": 40,
   "metadata": {},
   "outputs": [
    {
     "name": "stdout",
     "output_type": "stream",
     "text": [
      "Mean : \n",
      " tensor([[    0.0000],\n",
      "        [    0.0000]], grad_fn=<MeanBackward1>)\n",
      "Variance : \n",
      " tensor([[1.],\n",
      "        [1.]], grad_fn=<VarBackward0>)\n"
     ]
    }
   ],
   "source": [
    "# improve readibility\n",
    "torch.set_printoptions(sci_mode=False)\n",
    "print('Mean : \\n', mean)\n",
    "print('Variance : \\n', var)"
   ]
  },
  {
   "cell_type": "code",
   "execution_count": 41,
   "metadata": {},
   "outputs": [],
   "source": [
    "class LayerNorm(nn.Module):\n",
    "    def __init__(self, emb_dim):\n",
    "        super().__init__()\n",
    "        self.eps = 1e-5\n",
    "        self.scale = nn.Parameter(torch.ones(emb_dim))\n",
    "        self.shift = nn.Parameter(torch.zeros(emb_dim))\n",
    "\n",
    "    def forward(self, x):\n",
    "        mean = x.mean(dim=-1, keepdim=True)\n",
    "        var = x.var(dim=-1, keepdim=True, unbiased=False)\n",
    "        norm_x = (x - mean) / torch.sqrt(var + self.eps)\n",
    "\n",
    "        return self.scale * norm_x + self.shift"
   ]
  },
  {
   "cell_type": "code",
   "execution_count": 42,
   "metadata": {},
   "outputs": [
    {
     "name": "stdout",
     "output_type": "stream",
     "text": [
      "Mean : \n",
      " tensor([[     0.0000],\n",
      "        [    -0.0000]], grad_fn=<MeanBackward1>)\n",
      "Var : \n",
      " tensor([[0.9998],\n",
      "        [0.9999]], grad_fn=<VarBackward0>)\n"
     ]
    }
   ],
   "source": [
    "ln = LayerNorm(emb_dim=5)\n",
    "\n",
    "out_ln = ln(batch_example)\n",
    "mean = out_ln.mean(dim=-1, keepdim=True)\n",
    "var = out_ln.var(dim=-1, unbiased=False, keepdim=True)\n",
    "\n",
    "print('Mean : \\n', mean)\n",
    "print(\"Var : \\n\", var)"
   ]
  },
  {
   "cell_type": "markdown",
   "metadata": {},
   "source": [
    "### 4.3 Implementing a feed forward network with GELU activations"
   ]
  },
  {
   "cell_type": "markdown",
   "metadata": {},
   "source": [
    "GELU >> Gaussian Eror Linear Unit"
   ]
  },
  {
   "cell_type": "code",
   "execution_count": 43,
   "metadata": {},
   "outputs": [],
   "source": [
    "class GELU(nn.Module):\n",
    "    def __init__(self):\n",
    "        super().__init__()\n",
    "        \n",
    "    def forward(self, x):\n",
    "        return 0.5 * x * (1 + torch.tanh(torch.sqrt(torch.tensor(2 / torch.pi)) * (x + 0.044715 * torch.pow(x, 3))))"
   ]
  },
  {
   "cell_type": "markdown",
   "metadata": {},
   "source": [
    "Comparing with ReLU (Rectified Linear Unit)"
   ]
  },
  {
   "cell_type": "code",
   "execution_count": 44,
   "metadata": {},
   "outputs": [
    {
     "data": {
      "image/png": "[encoded data removed]",
      "text/plain": [
       "<Figure size 1200x600 with 2 Axes>"
      ]
     },
     "metadata": {},
     "output_type": "display_data"
    }
   ],
   "source": [
    "import matplotlib.pyplot as plt\n",
    "gelu, relu = GELU(), nn.ReLU()\n",
    "\n",
    "x = torch.linspace(-3, 3, 100)\n",
    "\n",
    "y_gelu, y_relu = gelu(x), relu(x)\n",
    "\n",
    "plt.figure(figsize=(12, 6))\n",
    "for i, (y, label) in enumerate(zip([y_gelu, y_relu], ['GELU', 'RELU']), 1):\n",
    "    plt.subplot(1, 2, i)\n",
    "    plt.plot(x, y)\n",
    "    plt.title(f\"{label} Activation Function\")\n",
    "    plt.xlabel('x')\n",
    "    plt.ylabel('y')\n",
    "    plt.grid()\n",
    "plt.tight_layout()\n",
    "plt.show() "
   ]
  },
  {
   "cell_type": "markdown",
   "metadata": {},
   "source": [
    "GELU >> non-zero gradient for almost all negative values.  \n",
    "- GELU dapat menerima berbagai nuansa penyesuaian pada parameter model  \n",
    "- Sebaliknya RELU memiliki sudut yang tajam pada 0 yang dapat membuat proses optimasi berat  \n",
    "- GELU menerima input yang kecil dan non-zero untuk nilai yang negatif  \n",
    "- Dengan ini neuron yang menerima input negatif tetap bisa berkontribusi pada proses, meskipun lebih kecil daripada nilai positif"
   ]
  },
  {
   "cell_type": "markdown",
   "metadata": {},
   "source": [
    "Selanjutnya, menggunakan GELU untuk modul `FeedForward` yang akan digunakan di Transformers block "
   ]
  },
  {
   "cell_type": "code",
   "execution_count": 45,
   "metadata": {},
   "outputs": [],
   "source": [
    "class FeedForward(nn.Module):\n",
    "    def __init__(self, cfg):\n",
    "        super().__init__()\n",
    "        self.layers = nn.Sequential(\n",
    "            nn.Linear(cfg['emb_dim'], 4 * cfg['emb_dim']),\n",
    "            GELU(),\n",
    "            nn.Linear(4 * cfg['emb_dim'], cfg['emb_dim'])\n",
    "        )\n",
    "\n",
    "    def forward(self, x):\n",
    "        return self.layers(x)"
   ]
  },
  {
   "cell_type": "code",
   "execution_count": 46,
   "metadata": {},
   "outputs": [
    {
     "name": "stdout",
     "output_type": "stream",
     "text": [
      "torch.Size([2, 3, 768])\n"
     ]
    }
   ],
   "source": [
    "ffn = FeedForward(GPT_CONFIG_124M)\n",
    "\n",
    "x = torch.randn(2, 3, 768)\n",
    "out = ffn(x)\n",
    "print(out.shape)"
   ]
  },
  {
   "cell_type": "markdown",
   "metadata": {},
   "source": [
    "### 4.4 Adding shortcut connections"
   ]
  },
  {
   "cell_type": "markdown",
   "metadata": {},
   "source": [
    "Shortcut Connections disebut juga Skip Connections disebut juga Residual Connections adalah metode jalur pintas yang memungkinkan informasi untuk melewati satu atau beberapa lapisan (layer) dalam arsitektur jaringan saraf. Alih-alih informasi hanya mengalir secara berurutan dari satu lapisan ke lapisan berikutnya, skip connections menambahkan output dari lapisan sebelumnya langsung ke output dari lapisan yang lebih dalam.  \n",
    "Output dari suatu sub-lapisan (misalnya, lapisan self-attention atau feed-forward) ditambahkan kembali ke input dari sub-lapisan tersebut.\n"
   ]
  },
  {
   "cell_type": "markdown",
   "metadata": {},
   "source": [
    "- Mengatasi masalah Vanishing Gradient  \n",
    "- Mempercepat konvergensi"
   ]
  },
  {
   "cell_type": "code",
   "execution_count": 47,
   "metadata": {},
   "outputs": [],
   "source": [
    "# neural network to ilustrate shortcut connection\n",
    "\n",
    "class ExampleDeepNeuralNetwork(nn.Module):\n",
    "    def __init__(self, layer_sizes, use_shortcut):\n",
    "        super().__init__()\n",
    "        self.use_shorcut = use_shortcut\n",
    "        self.layers = nn.ModuleList([\n",
    "            nn.Sequential(nn.Linear(layer_sizes[0], layer_sizes[1]),GELU()),\n",
    "            nn.Sequential(nn.Linear(layer_sizes[1], layer_sizes[2]),GELU()),\n",
    "            nn.Sequential(nn.Linear(layer_sizes[2], layer_sizes[3]),GELU()),\n",
    "            nn.Sequential(nn.Linear(layer_sizes[3], layer_sizes[4]),GELU()),\n",
    "            nn.Sequential(nn.Linear(layer_sizes[4], layer_sizes[5]),GELU()),\n",
    "        ])\n",
    "        # implement five layers\n",
    "\n",
    "    def forward(self, x):\n",
    "        for layer in self.layers:\n",
    "            layer_output = layer(x)\n",
    "            if self.use_shorcut and x.shape == layer_output.shape:\n",
    "                x = x + layer_output\n",
    "            else:\n",
    "                x = layer_output\n",
    "        return x"
   ]
  },
  {
   "cell_type": "markdown",
   "metadata": {},
   "source": [
    "Kelas diatas mengimplementasikan deep neural network dengan lima lapisan, setiap lapisan terdapat `linear` dan `GELU`. Pada forward pass, kita secara iteratif memasukkkan input ke setiap layers dan secara opsional menambahkan shortcut connections jika `self.use_shortcut` bernilai True."
   ]
  },
  {
   "cell_type": "code",
   "execution_count": 48,
   "metadata": {},
   "outputs": [],
   "source": [
    "# use_shortcut : False\n",
    "\n",
    "layer_sizes = [3, 3, 3, 3, 3, 1]\n",
    "sample_input = torch.tensor([[1., 0., -1.]])\n",
    "\n",
    "# for reproductibility\n",
    "torch.manual_seed(123)\n",
    "\n",
    "model_without_shorcut = ExampleDeepNeuralNetwork(layer_sizes, use_shortcut=False)"
   ]
  },
  {
   "cell_type": "code",
   "execution_count": 49,
   "metadata": {},
   "outputs": [
    {
     "name": "stdout",
     "output_type": "stream",
     "text": [
      "layers.0.0.weight has gradient mean of 0.00020173587836325169\n",
      "layers.0.0.bias has no gradient\n",
      "layers.1.0.weight has gradient mean of 0.0001201116101583466\n",
      "layers.1.0.bias has no gradient\n",
      "layers.2.0.weight has gradient mean of 0.0007152041653171182\n",
      "layers.2.0.bias has no gradient\n",
      "layers.3.0.weight has gradient mean of 0.001398873864673078\n",
      "layers.3.0.bias has no gradient\n",
      "layers.4.0.weight has gradient mean of 0.005049646366387606\n",
      "layers.4.0.bias has no gradient\n"
     ]
    }
   ],
   "source": [
    "# create function to computes the gradients in the models backward pass\n",
    "def print_gradients(model, x):\n",
    "    output = model(x)  # Forward pass\n",
    "    target = torch.tensor([[0.]], device=x.device)  # Define a target\n",
    "    loss = nn.MSELoss()(output, target)  # Compute loss\n",
    "    loss.backward()  # Backward pass\n",
    "\n",
    "    for name, param in model.named_parameters():\n",
    "        if param.grad is not None and 'weight' in name:  # Check if grad exists\n",
    "            print(f\"{name} has gradient mean of {param.grad.abs().mean().item()}\")\n",
    "        else:\n",
    "            print(f\"{name} has no gradient\")\n",
    "\n",
    "# Example usage\n",
    "print_gradients(model_without_shorcut, sample_input)"
   ]
  },
  {
   "cell_type": "code",
   "execution_count": 50,
   "metadata": {},
   "outputs": [
    {
     "name": "stdout",
     "output_type": "stream",
     "text": [
      "layers.0.0.weight has gradient mean of 0.22169792652130127\n",
      "layers.0.0.bias has no gradient\n",
      "layers.1.0.weight has gradient mean of 0.20694106817245483\n",
      "layers.1.0.bias has no gradient\n",
      "layers.2.0.weight has gradient mean of 0.32896995544433594\n",
      "layers.2.0.bias has no gradient\n",
      "layers.3.0.weight has gradient mean of 0.2665732502937317\n",
      "layers.3.0.bias has no gradient\n",
      "layers.4.0.weight has gradient mean of 1.3258541822433472\n",
      "layers.4.0.bias has no gradient\n"
     ]
    }
   ],
   "source": [
    "# with shortcut_connection = True\n",
    "torch.manual_seed(123)\n",
    "\n",
    "model_with_shortcut = ExampleDeepNeuralNetwork(layer_sizes, use_shortcut=True)\n",
    "print_gradients(model_with_shortcut, sample_input)"
   ]
  },
  {
   "cell_type": "markdown",
   "metadata": {},
   "source": [
    "### 4.5 Connecting attention and linear layers in a transformers block"
   ]
  },
  {
   "cell_type": "markdown",
   "metadata": {},
   "source": [
    "Selanjutnya adalah implementasi transformers block. Block ini akan diulang berkali-kali pada arsitektur.  \n",
    "Self-attention di multi-head attention mengidentifikasi dan menganalisis hubungan diantara elemen pada urutan input. Sebaliknya, feed forward network akan memodifikasi data secara individual pada setiap posisi. Kombinasi ini akan menangkap banyak nuansa pemahaman dari input"
   ]
  },
  {
   "cell_type": "code",
   "execution_count": 51,
   "metadata": {},
   "outputs": [],
   "source": [
    "from MultiHeadAttention import MultiHeadAttention\n",
    "\n",
    "class TransformersBlock(nn.Module):\n",
    "    def __init__(self, cfg):\n",
    "        super().__init__()\n",
    "        self.att = MultiHeadAttention(\n",
    "            d_in=cfg['emb_dim'],\n",
    "            d_out=cfg['emb_dim'],\n",
    "            context_length=cfg['context_length'],\n",
    "            num_heads=cfg['n_heads'],\n",
    "            dropout=cfg['drop_rate'],\n",
    "            qkv_bias=cfg['qkv_bias'],\n",
    "        )\n",
    "        self.ff = FeedForward(cfg)\n",
    "        self.norm1 = LayerNorm(cfg['emb_dim'])\n",
    "        self.norm2 = LayerNorm(cfg['emb_dim'])\n",
    "        self.drop_shortcut = nn.Dropout(cfg['drop_rate'])\n",
    "\n",
    "    def forward(self, x):\n",
    "        # first half block\n",
    "        shortcut = x # shortcut connection for attention block\n",
    "        x = self.norm1(x)\n",
    "        x = self.att(x)\n",
    "        x = self.drop_shortcut(x)\n",
    "        x = x + shortcut\n",
    "\n",
    "        # second half block\n",
    "        shortcut = x # shortcut connection for feed forward block\n",
    "        x = self.norm2(x)\n",
    "        x = self.ff(x)\n",
    "        x = self.drop_shortcut(x)\n",
    "        x = x + shortcut\n",
    "\n",
    "        return x"
   ]
  },
  {
   "cell_type": "code",
   "execution_count": 52,
   "metadata": {},
   "outputs": [
    {
     "name": "stdout",
     "output_type": "stream",
     "text": [
      "Input shape :  torch.Size([2, 4, 768])\n",
      "Output shape :  torch.Size([2, 4, 768])\n"
     ]
    }
   ],
   "source": [
    "# try\n",
    "torch.manual_seed(123)\n",
    "\n",
    "x = torch.rand(2, 4, 768) # (batch_size, seq_len, emb_dim)\n",
    "block = TransformersBlock(GPT_CONFIG_124M)\n",
    "output = block(x)\n",
    "\n",
    "print('Input shape : ', x.shape)\n",
    "print('Output shape : ', output.shape)"
   ]
  },
  {
   "cell_type": "markdown",
   "metadata": {},
   "source": [
    "### 4.6 Coding the GPT model"
   ]
  },
  {
   "cell_type": "code",
   "execution_count": 53,
   "metadata": {},
   "outputs": [],
   "source": [
    "class GPTModel(nn.Module):\n",
    "    def __init__(self, cfg):\n",
    "        super().__init__()\n",
    "        # phase 1\n",
    "        self.tok_emb = nn.Embedding(cfg['vocab_size'], cfg['emb_dim'])\n",
    "        self.pos_emb = nn.Embedding(cfg['context_length'], cfg['emb_dim'])\n",
    "        self.drop_emb = nn.Dropout(cfg['drop_rate'])\n",
    "        # phase 2\n",
    "        self.trf_blocks = nn.Sequential(\n",
    "            *[TransformersBlock(cfg) for _ in range(cfg['n_layers'])]\n",
    "        )\n",
    "        # phase 3\n",
    "        self.final_norm = LayerNorm(cfg['emb_dim'])\n",
    "        self.out_head = nn.Linear(\n",
    "            cfg['emb_dim'], cfg['vocab_size'], bias=False\n",
    "        )\n",
    "\n",
    "    def forward(self, in_idx):\n",
    "        batch_size, seq_len = in_idx.shape\n",
    "        tok_embeds = self.tok_emb(in_idx)\n",
    "        # setting device\n",
    "        pos_embeds = self.pos_emb(\n",
    "            torch.arange(seq_len, device=in_idx.device)\n",
    "        )\n",
    "\n",
    "        x = tok_embeds + pos_embeds\n",
    "        x = self.drop_emb(x)\n",
    "        x = self.trf_blocks(x)\n",
    "        x = self.final_norm(x)\n",
    "\n",
    "        logits = self.out_head(x)\n",
    "        return logits"
   ]
  },
  {
   "cell_type": "code",
   "execution_count": 54,
   "metadata": {},
   "outputs": [
    {
     "name": "stdout",
     "output_type": "stream",
     "text": [
      "Input batch : \n",
      " tensor([[6109, 4040, 6100,  345],\n",
      "        [6109, 1110, 6622,  257]])\n",
      "\n",
      "Output shape :  torch.Size([2, 4, 50257])\n",
      "tensor([[[ 0.1381,  0.0077, -0.1963,  ..., -0.0222, -0.1060,  0.1717],\n",
      "         [ 1.1179, -0.9042,  0.1485,  ..., -0.5095,  0.3850,  0.2536],\n",
      "         [ 0.7544, -0.1235, -0.1256,  ...,  0.2224, -0.6916,  0.0817],\n",
      "         [-0.3334,  0.1536, -0.1432,  ...,  1.1651,  0.4558, -0.4173]],\n",
      "\n",
      "        [[ 0.1094, -0.2894, -0.1467,  ..., -0.0557,  0.2911, -0.2824],\n",
      "         [ 0.0882, -0.3552, -0.3527,  ...,  1.2930,  0.0053,  0.1898],\n",
      "         [ 0.6091,  0.4702, -0.4094,  ...,  0.7688,  0.3787, -0.1974],\n",
      "         [-0.0612, -0.0737,  0.4751,  ...,  1.2463, -0.3834,  0.0609]]],\n",
      "       grad_fn=<UnsafeViewBackward0>)\n"
     ]
    }
   ],
   "source": [
    "torch.manual_seed(123)\n",
    "\n",
    "model = GPTModel(GPT_CONFIG_124M)\n",
    "\n",
    "out = model(batch)\n",
    "\n",
    "print(\"Input batch : \\n\", batch)\n",
    "print(\"\\nOutput shape : \", out.shape)\n",
    "print(out)"
   ]
  },
  {
   "cell_type": "code",
   "execution_count": 55,
   "metadata": {},
   "outputs": [
    {
     "name": "stdout",
     "output_type": "stream",
     "text": [
      "Total numbers of parameters : 163,009,536\n"
     ]
    }
   ],
   "source": [
    "total_params = sum(p.numel() for p in model.parameters())\n",
    "print(f\"Total numbers of parameters : {total_params:,}\")"
   ]
  },
  {
   "cell_type": "code",
   "execution_count": 56,
   "metadata": {},
   "outputs": [
    {
     "name": "stdout",
     "output_type": "stream",
     "text": [
      "Token embedding layer shape :  torch.Size([50257, 768])\n",
      "Output layer shape :  torch.Size([50257, 768])\n"
     ]
    }
   ],
   "source": [
    "print(\"Token embedding layer shape : \", model.tok_emb.weight.shape)\n",
    "print(\"Output layer shape : \", model.out_head.weight.shape)"
   ]
  },
  {
   "cell_type": "code",
   "execution_count": 57,
   "metadata": {},
   "outputs": [
    {
     "name": "stdout",
     "output_type": "stream",
     "text": [
      "Number of trainable paramaters considering weight tying : 124,412,160\n"
     ]
    }
   ],
   "source": [
    "total_param_gpt2 = (\n",
    "    total_params - sum(p.numel()\n",
    "    for p in model.out_head.parameters())\n",
    ")\n",
    "\n",
    "print(f\"Number of trainable paramaters considering weight tying : {total_param_gpt2:,}\")"
   ]
  },
  {
   "cell_type": "code",
   "execution_count": 58,
   "metadata": {},
   "outputs": [
    {
     "name": "stdout",
     "output_type": "stream",
     "text": [
      "Total size in MB : 621.83 MB\n"
     ]
    }
   ],
   "source": [
    "# compute the memory requirements of 163 million paramaters \n",
    "total_size_bytes = total_params * 4\n",
    "total_size_mb = total_size_bytes / (1024 ** 2)\n",
    "print(f\"Total size in MB : {total_size_mb:.2f} MB\")"
   ]
  },
  {
   "cell_type": "markdown",
   "metadata": {},
   "source": [
    "### 4.7 Generating text"
   ]
  },
  {
   "cell_type": "markdown",
   "metadata": {},
   "source": [
    "Function for the GPT model to generate text"
   ]
  },
  {
   "cell_type": "code",
   "execution_count": 59,
   "metadata": {},
   "outputs": [],
   "source": [
    "def generate_text_simple(model, idx, max_new_tokens, context_size): # idx : array (batch, n_tokens)\n",
    "    for _ in range(max_new_tokens):\n",
    "        idx_cond = idx[:, -context_size:]\n",
    "        with torch.no_grad():\n",
    "            logits = model(idx_cond)\n",
    "\n",
    "        logits = logits[:, -1, :] # focuses only on the last time step\n",
    "        probas = torch.softmax(logits, dim=-1)\n",
    "        idx_next = torch.argmax(probas, dim=-1, keepdim=True) # get the highest probability token, shape (batch_size, 1)\n",
    "        idx = torch.cat((idx, idx_next), dim=1) # concatenate the new token to the input sequence, shape (batch_size, seq_len + 1)\n",
    "\n",
    "    return idx # return the generated sequence"
   ]
  },
  {
   "cell_type": "markdown",
   "metadata": {},
   "source": [
    "Mencoba fungsi yang telah dibuat"
   ]
  },
  {
   "cell_type": "code",
   "execution_count": 60,
   "metadata": {},
   "outputs": [
    {
     "name": "stdout",
     "output_type": "stream",
     "text": [
      "Encoded :  [15496, 11, 314, 716]\n",
      "Encoded tensor shape :  torch.Size([1, 4])\n"
     ]
    }
   ],
   "source": [
    "start_context = 'Hello, I am'\n",
    "\n",
    "# encode the text\n",
    "encoded = tokenizer.encode(start_context)\n",
    "print('Encoded : ', encoded)\n",
    "\n",
    "# add batch dimension\n",
    "encoded_tensor = torch.tensor(encoded).unsqueeze(0) # shape (1, n_tokens) or (batch_size, n_tokens)\n",
    "print('Encoded tensor shape : ', encoded_tensor.shape)"
   ]
  },
  {
   "cell_type": "code",
   "execution_count": 61,
   "metadata": {},
   "outputs": [
    {
     "name": "stdout",
     "output_type": "stream",
     "text": [
      "Output :  tensor([[15496,    11,   314,   716, 27018, 24086, 47843, 30961, 42348,  7267]])\n",
      "Output length :  10\n"
     ]
    }
   ],
   "source": [
    "model.eval() # disables dropout since we are not training the model\n",
    "\n",
    "out = generate_text_simple(\n",
    "    model=model,\n",
    "    idx=encoded_tensor,\n",
    "    max_new_tokens=6,\n",
    "    context_size=GPT_CONFIG_124M['context_length']\n",
    ")\n",
    "\n",
    "print('Output : ', out)\n",
    "print('Output length : ', len(out[0]))"
   ]
  },
  {
   "cell_type": "code",
   "execution_count": 62,
   "metadata": {},
   "outputs": [
    {
     "name": "stdout",
     "output_type": "stream",
     "text": [
      "Hello, I am Featureiman Byeswickattribute argue\n"
     ]
    }
   ],
   "source": [
    "# use decode method of tokenizer, we can convert back into text\n",
    "decoded_text = tokenizer.decode(out.squeeze(0).tolist())\n",
    "print(decoded_text)"
   ]
  },
  {
   "cell_type": "markdown",
   "metadata": {},
   "source": [
    "Dapat dilihat, model meng-generate kata yang tidak berkonteks dan tidak nyambung dengan input yang kita berikan. Ini dikarenakan kita belum melakukan training pada model"
   ]
  }
 ],
 "metadata": {
  "kernelspec": {
   "display_name": "Python 3",
   "language": "python",
   "name": "python3"
  },
  "language_info": {
   "codemirror_mode": {
    "name": "ipython",
    "version": 3
   },
   "file_extension": ".py",
   "mimetype": "text/x-python",
   "name": "python",
   "nbconvert_exporter": "python",
   "pygments_lexer": "ipython3",
   "version": "3.11.0"
  }
 },
 "nbformat": 4,
 "nbformat_minor": 2
}
